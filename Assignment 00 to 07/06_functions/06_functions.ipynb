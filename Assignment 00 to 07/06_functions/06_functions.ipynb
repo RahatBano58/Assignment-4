{
  "nbformat": 4,
  "nbformat_minor": 0,
  "metadata": {
    "colab": {
      "provenance": []
    },
    "kernelspec": {
      "name": "python3",
      "display_name": "Python 3"
    },
    "language_info": {
      "name": "python"
    }
  },
  "cells": [
    {
      "cell_type": "code",
      "execution_count": 1,
      "metadata": {
        "id": "vX_DNtz4KeX_",
        "colab": {
          "base_uri": "https://localhost:8080/"
        },
        "outputId": "6d15bce6-6ef5-4418-951e-41902e44177a"
      },
      "outputs": [
        {
          "output_type": "stream",
          "name": "stdout",
          "text": [
            "00_average\n",
            "Average of 5 and 15: 10.0\n",
            "Average of 1, 2, 3, 4, 5: 3.0\n",
            "Average with no input: 0\n",
            "Average of [10, 20, 30, 40] : 25.0\n"
          ]
        }
      ],
      "source": [
        "print(\"00_average\")\n",
        "\n",
        "def average(*numbers: float):\n",
        "    \"\"\"\n",
        "    Returns the average of all input numbers.\n",
        "    Accepts any number of arguments.\n",
        "    \"\"\"\n",
        "    if not numbers:\n",
        "        return 0\n",
        "    return round(sum(numbers) / len(numbers), 2)\n",
        "\n",
        "def main():\n",
        "\n",
        "    print(\"Average of 5 and 15:\", average(5, 15))\n",
        "\n",
        "    print(\"Average of 1, 2, 3, 4, 5:\", average(1, 2, 3, 4, 5))\n",
        "\n",
        "    print(\"Average with no input:\", average())\n",
        "\n",
        "    nums = [10, 20, 30, 40]\n",
        "    print(\"Average of\", nums, \":\", average(*nums))\n",
        "\n",
        "if __name__ == '__main__':\n",
        "    main()"
      ]
    },
    {
      "cell_type": "code",
      "source": [
        "print(\"01_chaotic_counting\")\n",
        "\n",
        "import random\n",
        "\n",
        "# Mood dictionary with emojis for extra flavor\n",
        "MOODS = {\n",
        "    \"Energetic\": {\"likelihood\": 0.05, \"emoji\": \"⚡\"},\n",
        "    \"Neutral\": {\"likelihood\": 0.25, \"emoji\": \"🙂\"},\n",
        "    \"Lazy\": {\"likelihood\": 0.5, \"emoji\": \"😴\"},\n",
        "    \"Grumpy\": {\"likelihood\": 0.8, \"emoji\": \"😠\"}\n",
        "}\n",
        "\n",
        "# Randomly select mood\n",
        "mood, details = random.choice(list(MOODS.items()))\n",
        "DONE_LIKELIHOOD = details[\"likelihood\"]\n",
        "MOOD_EMOJI = details[\"emoji\"]\n",
        "\n",
        "def done():\n",
        "    \"\"\"Returns True with a probability of DONE_LIKELIHOOD.\"\"\"\n",
        "    return random.random() < DONE_LIKELIHOOD\n",
        "\n",
        "def chaotic_counting():\n",
        "    print(f\"My mood today is: {mood} {MOOD_EMOJI} (I might stop early!)\")\n",
        "    for i in range(1, 11):\n",
        "        if done():\n",
        "            print(f\"Oops! I stopped at {i - 1}. 😅\")\n",
        "            return\n",
        "        print(i)\n",
        "    print(\"Yay! I made it all the way to 10! 🎉\")\n",
        "\n",
        "def main():\n",
        "    print(\"Let's count up to 10... if I feel like it. 😜\")\n",
        "    chaotic_counting()\n",
        "    print(\"I'm done for now. 👋\")\n",
        "\n",
        "if __name__ == \"__main__\":\n",
        "    main()\n",
        "\n"
      ],
      "metadata": {
        "colab": {
          "base_uri": "https://localhost:8080/"
        },
        "id": "8YvjfFTBuzYZ",
        "outputId": "6b94fb7d-a93b-4ad2-ca38-69b6c3975445"
      },
      "execution_count": 2,
      "outputs": [
        {
          "output_type": "stream",
          "name": "stdout",
          "text": [
            "01_chaotic_counting\n",
            "Let's count up to 10... if I feel like it. 😜\n",
            "My mood today is: Energetic ⚡ (I might stop early!)\n",
            "1\n",
            "2\n",
            "3\n",
            "4\n",
            "5\n",
            "6\n",
            "7\n",
            "8\n",
            "9\n",
            "10\n",
            "Yay! I made it all the way to 10! 🎉\n",
            "I'm done for now. 👋\n"
          ]
        }
      ]
    },
    {
      "cell_type": "code",
      "source": [
        "print(\"02_count_even\")\n",
        "\n",
        "def count_even_numbers(numbers):\n",
        "    even_numbers = [num for num in numbers if num % 2 == 0]\n",
        "    print(\"\\n📥 Numbers Summary:\")\n",
        "    print(f\"You entered {len(numbers)} number(s).\")\n",
        "    print(f\"Even number(s) ({len(even_numbers)}): {even_numbers}\")\n",
        "\n",
        "def get_integer_list():\n",
        "    numbers = []\n",
        "    print(\"🔢 Enter integers one by one. Press Enter without typing anything to stop.\")\n",
        "\n",
        "    while True:\n",
        "        user_input = input(\"Enter an integer: \")\n",
        "        if user_input == \"\":\n",
        "            break\n",
        "        try:\n",
        "            number = int(user_input)\n",
        "            numbers.append(number)\n",
        "        except ValueError:\n",
        "            print(\"❌ Invalid input. Please enter a valid integer.\")\n",
        "\n",
        "    return numbers\n",
        "\n",
        "def main():\n",
        "    number_list = get_integer_list()\n",
        "    count_even_numbers(number_list)\n",
        "    print(\"\\n✅ Program finished. Thank you!\")\n",
        "\n",
        "if __name__ == '__main__':\n",
        "    main()\n"
      ],
      "metadata": {
        "colab": {
          "base_uri": "https://localhost:8080/"
        },
        "id": "rJlx3xmAv0UE",
        "outputId": "b2eba066-4548-49fb-ec8a-7a20f1aa6c9f"
      },
      "execution_count": 4,
      "outputs": [
        {
          "output_type": "stream",
          "name": "stdout",
          "text": [
            "02_count_even\n",
            "🔢 Enter integers one by one. Press Enter without typing anything to stop.\n",
            "Enter an integer: 2\n",
            "Enter an integer: 6\n",
            "Enter an integer: 8\n",
            "Enter an integer: \n",
            "\n",
            "📥 Numbers Summary:\n",
            "You entered 3 number(s).\n",
            "Even number(s) (3): [2, 6, 8]\n",
            "\n",
            "✅ Program finished. Thank you!\n"
          ]
        }
      ]
    },
    {
      "cell_type": "code",
      "source": [
        "print(\"04_double\")\n",
        "\n",
        "def double(num):\n",
        "    return num * 2  # Multiply the input number by 2 and return it\n",
        "\n",
        "def main():\n",
        "    num = int(input(\"Enter a number: \"))\n",
        "    num_times_2 = double(num)\n",
        "    print(\"Double that is\", num_times_2)\n",
        "\n",
        "if __name__ == '__main__':\n",
        "    main()"
      ],
      "metadata": {
        "colab": {
          "base_uri": "https://localhost:8080/"
        },
        "id": "LIUjtNaFxIiR",
        "outputId": "6c7da5e5-ccac-454c-f6f5-b690af29147f"
      },
      "execution_count": 5,
      "outputs": [
        {
          "output_type": "stream",
          "name": "stdout",
          "text": [
            "04_double\n",
            "Enter a number: 4\n",
            "Double that is 8\n"
          ]
        }
      ]
    },
    {
      "cell_type": "code",
      "source": [
        "print(\"05_get_name\")\n",
        "\n",
        "def get_name():\n",
        "    return \"Sophia\"\n",
        "\n",
        "def main():\n",
        "    name = get_name()\n",
        "    print(\"Howdy\", name, \"! 🤠\")\n",
        "\n",
        "if __name__ == '__main__':\n",
        "    main()"
      ],
      "metadata": {
        "colab": {
          "base_uri": "https://localhost:8080/"
        },
        "id": "Wjq9NlSJzKPe",
        "outputId": "5a3a5018-6eaa-40e0-8857-f5ebd1593fea"
      },
      "execution_count": 6,
      "outputs": [
        {
          "output_type": "stream",
          "name": "stdout",
          "text": [
            "05_get_name\n",
            "Howdy Sophia ! 🤠\n"
          ]
        }
      ]
    },
    {
      "cell_type": "code",
      "source": [
        "print(\"06_is_odd\")\n",
        "\n",
        "def is_odd(value: int) -> bool:\n",
        "    \"\"\"Returns True if the number is odd, False otherwise.\"\"\"\n",
        "    return value % 2 == 1\n",
        "\n",
        "def main():\n",
        "    print(\"🔍 Checking odd and even numbers from 10 to 19:\\n\")\n",
        "    for i in range(10, 20):\n",
        "        if is_odd(i):\n",
        "            print(f\"{i} is odd 🟣\")\n",
        "        else:\n",
        "            print(f\"{i} is even 🔵\")\n",
        "\n",
        "if __name__ == '__main__':\n",
        "    main()\n"
      ],
      "metadata": {
        "colab": {
          "base_uri": "https://localhost:8080/"
        },
        "id": "TjAUn1r0z49V",
        "outputId": "68c4f7aa-1107-4e81-e185-c44f6e0e17d9"
      },
      "execution_count": 7,
      "outputs": [
        {
          "output_type": "stream",
          "name": "stdout",
          "text": [
            "06_is_odd\n",
            "🔍 Checking odd and even numbers from 10 to 19:\n",
            "\n",
            "10 is even 🔵\n",
            "11 is odd 🟣\n",
            "12 is even 🔵\n",
            "13 is odd 🟣\n",
            "14 is even 🔵\n",
            "15 is odd 🟣\n",
            "16 is even 🔵\n",
            "17 is odd 🟣\n",
            "18 is even 🔵\n",
            "19 is odd 🟣\n"
          ]
        }
      ]
    },
    {
      "cell_type": "code",
      "source": [
        "print(\"07_print_divisor\")\n",
        "\n",
        "def print_divisors(num):\n",
        "    \"\"\"Prints all divisors of the given number.\"\"\"\n",
        "    print(f\"Here are the divisors of {num}\")\n",
        "    for i in range(1, num + 1):\n",
        "        if num % i == 0:\n",
        "            print(i)\n",
        "def main():\n",
        "    num = int(input(\"Enter a number: \"))\n",
        "    print_divisors(num)\n",
        "\n",
        "if __name__ == '__main__':\n",
        "    main()\n"
      ],
      "metadata": {
        "colab": {
          "base_uri": "https://localhost:8080/"
        },
        "id": "Rubo8qfm1w-i",
        "outputId": "24b7a981-b427-4113-e941-e5ac1ba14411"
      },
      "execution_count": 11,
      "outputs": [
        {
          "output_type": "stream",
          "name": "stdout",
          "text": [
            "07_print_divisor\n",
            "Enter a number: 8\n",
            "Here are the divisors of 8\n",
            "1\n",
            "2\n",
            "4\n",
            "8\n"
          ]
        }
      ]
    },
    {
      "cell_type": "code",
      "source": [
        "print(\"08_print_multiple\")\n",
        "\n",
        "def print_multiple(message, repeats):\n",
        "    \"\"\"Prints the message the specified number of times.\"\"\"\n",
        "    for _ in range(repeats):\n",
        "        print(message)\n",
        "\n",
        "def main():\n",
        "    message = input(\"Please type a message: \")\n",
        "    repeats = int(input(\"Enter a number of times to repeat your message: \"))\n",
        "    print_multiple(message, repeats)\n",
        "\n",
        "if __name__ == '__main__':\n",
        "    main()\n"
      ],
      "metadata": {
        "colab": {
          "base_uri": "https://localhost:8080/"
        },
        "id": "UN-GPf7e2FUH",
        "outputId": "f03e3a95-49c8-40f9-a9f2-7c05f71f30f9"
      },
      "execution_count": 12,
      "outputs": [
        {
          "output_type": "stream",
          "name": "stdout",
          "text": [
            "08_print_multiple\n",
            "Please type a message: Hello! How are You?\n",
            "Enter a number of times to repeat your message: 4\n",
            "Hello! How are You?\n",
            "Hello! How are You?\n",
            "Hello! How are You?\n",
            "Hello! How are You?\n"
          ]
        }
      ]
    },
    {
      "cell_type": "code",
      "source": [
        "print(\"09_sentence_generator\")\n",
        "def make_sentence(word, part_of_speech):\n",
        "    \"\"\"Generates a sentence based on the part of speech of the word.\"\"\"\n",
        "    if part_of_speech == 0:\n",
        "        # Noun sentence\n",
        "        print(f\"I am excited to add this {word} to my vast collection of them!\")\n",
        "    elif part_of_speech == 1:\n",
        "        # Verb sentence\n",
        "        print(f\"It's so nice outside today it makes me want to {word}!\")\n",
        "    elif part_of_speech == 2:\n",
        "        # Adjective sentence\n",
        "        print(f\"Looking out my window, the sky is big and {word}!\")\n",
        "    else:\n",
        "        print(\"Invalid part of speech!\")\n",
        "\n",
        "def main():\n",
        "    word = input(\"Please type a noun, verb, or adjective: \")\n",
        "    part_of_speech = int(input(\"Is this a noun, verb, or adjective? Type 0 for noun, 1 for verb, 2 for adjective: \"))\n",
        "    make_sentence(word, part_of_speech)\n",
        "\n",
        "if __name__ == '__main__':\n",
        "    main()\n",
        "\n"
      ],
      "metadata": {
        "colab": {
          "base_uri": "https://localhost:8080/"
        },
        "id": "oJF5XimN3H0q",
        "outputId": "5fcd45b4-7b75-4012-8d79-816690e996a3"
      },
      "execution_count": 16,
      "outputs": [
        {
          "output_type": "stream",
          "name": "stdout",
          "text": [
            "09_sentence_generator\n",
            "Please type a noun, verb, or adjective: verb\n",
            "Is this a noun, verb, or adjective? Type 0 for noun, 1 for verb, 2 for adjective: 1\n",
            "It's so nice outside today it makes me want to verb!\n"
          ]
        }
      ]
    },
    {
      "cell_type": "code",
      "source": [
        "print(\"10_print_ones_digit\")\n",
        "\n",
        "def print_ones_digit(num):\n",
        "    \"\"\"Prints the ones digit of the given number.\"\"\"\n",
        "    ones_digit = num % 10\n",
        "    print(f\"The ones digit is {ones_digit}\")\n",
        "\n",
        "def main():\n",
        "    num = int(input(\"Enter a number: \"))\n",
        "    print_ones_digit(num)\n",
        "\n",
        "if __name__ == '__main__':\n",
        "    main()\n"
      ],
      "metadata": {
        "colab": {
          "base_uri": "https://localhost:8080/"
        },
        "id": "DbyjOAg_8MWZ",
        "outputId": "49aa6718-aed8-4271-9a91-2519b6ea19ff"
      },
      "execution_count": 17,
      "outputs": [
        {
          "output_type": "stream",
          "name": "stdout",
          "text": [
            "10_print_ones_digit\n",
            "Enter a number: 67\n",
            "The ones digit is 7\n"
          ]
        }
      ]
    }
  ]
}