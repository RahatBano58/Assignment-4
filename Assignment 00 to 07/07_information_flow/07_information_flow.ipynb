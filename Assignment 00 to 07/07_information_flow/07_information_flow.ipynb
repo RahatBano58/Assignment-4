{
  "nbformat": 4,
  "nbformat_minor": 0,
  "metadata": {
    "colab": {
      "provenance": []
    },
    "kernelspec": {
      "name": "python3",
      "display_name": "Python 3"
    },
    "language_info": {
      "name": "python"
    }
  },
  "cells": [
    {
      "cell_type": "code",
      "execution_count": 1,
      "metadata": {
        "colab": {
          "base_uri": "https://localhost:8080/"
        },
        "id": "25qLieWs9MiV",
        "outputId": "b9f845e9-78f5-4ccf-871c-25431b1a6802"
      },
      "outputs": [
        {
          "output_type": "stream",
          "name": "stdout",
          "text": [
            "00_choosing_returns\n",
            "How old is this person?: 24\n",
            "True\n"
          ]
        }
      ],
      "source": [
        "print(\"00_choosing_returns\")\n",
        "\n",
        "ADULT_AGE = 18  # Legal adult age in the U.S.\n",
        "\n",
        "def is_adult(age):\n",
        "    \"\"\"Returns True if age is greater than or equal to ADULT_AGE, otherwise False.\"\"\"\n",
        "    return age >= ADULT_AGE\n",
        "\n",
        "def main():\n",
        "    age = int(input(\"How old is this person?: \"))\n",
        "    print(is_adult(age))\n",
        "\n",
        "if __name__ == '__main__':\n",
        "    main()\n"
      ]
    },
    {
      "cell_type": "code",
      "source": [
        "print(\"01_greetings\")\n",
        "\n",
        "def greet(name):\n",
        "    \"\"\"Prints a greeting message for the given name.\"\"\"\n",
        "    print(f\"Greetings {name}!\")\n",
        "\n",
        "def main():\n",
        "    name = input(\"What's your name? \")\n",
        "    greet(name)\n",
        "\n",
        "if __name__ == '__main__':\n",
        "    main()\n"
      ],
      "metadata": {
        "colab": {
          "base_uri": "https://localhost:8080/"
        },
        "id": "OgLbM0rS93El",
        "outputId": "f6e6fffe-ca68-4069-e115-bc257b587751"
      },
      "execution_count": 3,
      "outputs": [
        {
          "output_type": "stream",
          "name": "stdout",
          "text": [
            "01_greetings\n",
            "What's your name? Sophia\n",
            "Greetings Sophia!\n"
          ]
        }
      ]
    },
    {
      "cell_type": "code",
      "source": [
        "print(\"02_in_range\")\n",
        "\n",
        "def in_range(n, low, high):\n",
        "    \"\"\"Returns True if n is between low and high, inclusive.\"\"\"\n",
        "    return low <= n <= high\n",
        "\n",
        "# Example usage (for testing)\n",
        "def main():\n",
        "    n = int(input(\"Enter a number: \"))\n",
        "    low = int(input(\"Enter the lower bound: \"))\n",
        "    high = int(input(\"Enter the upper bound: \"))\n",
        "    print(in_range(n, low, high))\n",
        "\n",
        "if __name__ == '__main__':\n",
        "    main()\n"
      ],
      "metadata": {
        "colab": {
          "base_uri": "https://localhost:8080/"
        },
        "id": "XWCaHJ90-VEU",
        "outputId": "1a7e1049-0ed9-4120-e173-aa68f3e68ffc"
      },
      "execution_count": 4,
      "outputs": [
        {
          "output_type": "stream",
          "name": "stdout",
          "text": [
            "02_in_range\n",
            "Enter a number: 5\n",
            "Enter the lower bound: 3\n",
            "Enter the upper bound: 5\n",
            "True\n"
          ]
        }
      ]
    },
    {
      "cell_type": "code",
      "source": [
        "print(\"03_in_stock\")\n",
        "\n",
        "def num_in_stock(fruit):\n",
        "    \"\"\"Returns the number of the given fruit in stock.\"\"\"\n",
        "    inventory = {\n",
        "        \"apple\": 10,\n",
        "        \"banana\": 25,\n",
        "        \"pear\": 1000,\n",
        "        \"mango\": 50,\n",
        "        \"grape\": 0  # example of a fruit with 0 stock\n",
        "    }\n",
        "    return inventory.get(fruit.lower(), 0)\n",
        "\n",
        "def main():\n",
        "    fruit = input(\"Enter a fruit: \")\n",
        "    count = num_in_stock(fruit)\n",
        "\n",
        "    if count > 0:\n",
        "        print(\"This fruit is in stock! Here is how many:\")\n",
        "        print(count)\n",
        "    else:\n",
        "        print(\"This fruit is not in stock.\")\n",
        "\n",
        "if __name__ == '__main__':\n",
        "    main()\n"
      ],
      "metadata": {
        "colab": {
          "base_uri": "https://localhost:8080/"
        },
        "id": "tFAHRgIOAOJE",
        "outputId": "ac8bad11-de28-4cf1-9168-adcae0430ada"
      },
      "execution_count": 5,
      "outputs": [
        {
          "output_type": "stream",
          "name": "stdout",
          "text": [
            "03_in_stock\n",
            "Enter a fruit: mango\n",
            "This fruit is in stock! Here is how many:\n",
            "50\n"
          ]
        }
      ]
    },
    {
      "cell_type": "code",
      "source": [
        "print(\"04_multiple_returns\")\n",
        "\n",
        "def get_user_data():\n",
        "    first_name = input(\"What is your first name?: \")\n",
        "    last_name = input(\"What is your last name?: \")\n",
        "    email = input(\"What is your email address?: \")\n",
        "    return first_name, last_name, email  # This returns a tuple of the three values\n",
        "\n",
        "def main():\n",
        "    user_info = get_user_data()\n",
        "    print(\"Received the following user data:\", user_info)\n",
        "\n",
        "if __name__ == '__main__':\n",
        "    main()\n"
      ],
      "metadata": {
        "colab": {
          "base_uri": "https://localhost:8080/"
        },
        "id": "_M2Q7cXQBOhf",
        "outputId": "2cbe7e34-eda9-4b9c-a259-36b87893b750"
      },
      "execution_count": 7,
      "outputs": [
        {
          "output_type": "stream",
          "name": "stdout",
          "text": [
            "04_multiple_returns\n",
            "What is your first name?: Rahat\n",
            "What is your last name?: Bano\n",
            "What is your email address?: rahat123@gmail.com\n",
            "Received the following user data: ('Rahat', 'Bano', 'rahat123@gmail.com')\n"
          ]
        }
      ]
    },
    {
      "cell_type": "code",
      "source": [
        "print(\"05_subtract_7\")\n",
        "\n",
        "def subtract_seven(num):\n",
        "    return num - 7\n",
        "\n",
        "def main():\n",
        "    number = int(input(\"Enter a number: \"))\n",
        "    result = subtract_seven(number)\n",
        "    print(\"After subtracting 7, the result is:\", result)\n",
        "\n",
        "if __name__ == '__main__':\n",
        "    main()\n"
      ],
      "metadata": {
        "colab": {
          "base_uri": "https://localhost:8080/"
        },
        "id": "PGRtILFVCAtT",
        "outputId": "3e2257cd-87f7-4d6b-f5fa-02c9f614753e"
      },
      "execution_count": 8,
      "outputs": [
        {
          "output_type": "stream",
          "name": "stdout",
          "text": [
            "05_subtract_7\n",
            "Enter a number: 12\n",
            "After subtracting 7, the result is: 5\n"
          ]
        }
      ]
    }
  ]
}