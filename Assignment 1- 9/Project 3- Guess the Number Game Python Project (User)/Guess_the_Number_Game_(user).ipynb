{
  "nbformat": 4,
  "nbformat_minor": 0,
  "metadata": {
    "colab": {
      "provenance": []
    },
    "kernelspec": {
      "name": "python3",
      "display_name": "Python 3"
    },
    "language_info": {
      "name": "python"
    }
  },
  "cells": [
    {
      "cell_type": "code",
      "execution_count": 3,
      "metadata": {
        "colab": {
          "base_uri": "https://localhost:8080/"
        },
        "id": "BH1D3MB24Hr_",
        "outputId": "7ad6d6e4-10c2-407f-e4f9-6c2144469c3c"
      },
      "outputs": [
        {
          "output_type": "stream",
          "name": "stdout",
          "text": [
            "\n",
            "✨ Welcome to the Number Guessing Game! ✨\n",
            "\n",
            "\n",
            "👨‍💻 User Guess the Number 👩‍💻\n",
            "\n",
            "🎯 I have a secret number between 1 to 10. Can you guess it? 🤔\n",
            "👍 When you're ready, press Enter to start guessing!\n",
            "🔢 Guess the number: 5\n",
            "🎉 Congratulations! You guessed the right number in 1 attempts! 🎉\n"
          ]
        }
      ],
      "source": [
        "import random\n",
        "\n",
        "print(\"\\n✨ Welcome to the Number Guessing Game! ✨\\n\")\n",
        "print(\"\\n👨‍💻 User Guess the Number 👩‍💻\\n\")\n",
        "\n",
        "secret_number = random.randint(1, 10)\n",
        "print(\"🎯 I have a secret number between 1 to 10. Can you guess it? 🤔\")\n",
        "input(\"👍 When you're ready, press Enter to start guessing!\")\n",
        "\n",
        "attempts = 0  # To count the number of attempts\n",
        "\n",
        "while True:\n",
        "    try:\n",
        "        guess = int(input(\"🔢 Guess the number: \"))\n",
        "        attempts += 1\n",
        "\n",
        "        if guess > secret_number:\n",
        "            print(\"📈 Too High! Try again. 🔄\")\n",
        "        elif guess < secret_number:\n",
        "            print(\"📉 Too Low! Try again. 🔄\")\n",
        "        else:\n",
        "            print(f\"🎉 Congratulations! You guessed the right number in {attempts} attempts! 🎉\")\n",
        "            break\n",
        "    except ValueError:\n",
        "        print(\"⚠️ Please enter a valid number! 🚫\")\n"
      ]
    }
  ]
}