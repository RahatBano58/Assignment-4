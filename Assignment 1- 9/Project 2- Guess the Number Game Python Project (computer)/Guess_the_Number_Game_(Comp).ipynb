{
  "nbformat": 4,
  "nbformat_minor": 0,
  "metadata": {
    "colab": {
      "provenance": []
    },
    "kernelspec": {
      "name": "python3",
      "display_name": "Python 3"
    },
    "language_info": {
      "name": "python"
    }
  },
  "cells": [
    {
      "cell_type": "code",
      "execution_count": 3,
      "metadata": {
        "id": "6be09-hEt2pN",
        "colab": {
          "base_uri": "https://localhost:8080/"
        },
        "outputId": "aea0b36e-a855-475c-ec13-e47202855e44"
      },
      "outputs": [
        {
          "output_type": "stream",
          "name": "stdout",
          "text": [
            "\n",
            "✨ Welcome to the Number Guessing Game! ✨\n",
            "\n",
            "💻 Computer will try to guess your number.\n",
            "\n",
            "🤔 Think of a number between 1 and 10, and 💻 will try to guess it!\n",
            "👍 When you are ready, press Enter to continue...\n",
            "\n",
            "🤖 Is your number 5?\n",
            "👉 Enter 'h' for too high, 'l' for too low, or 'c' for correct: h\n",
            "\n",
            "🤖 Is your number 4?\n",
            "👉 Enter 'h' for too high, 'l' for too low, or 'c' for correct: l\n",
            "\n",
            "😅 Hmm... It seems there was a misunderstanding. Let's try again! 🔄\n"
          ]
        }
      ],
      "source": [
        "import random\n",
        "\n",
        "print(\"\\n✨ Welcome to the Number Guessing Game! ✨\\n\")\n",
        "print(\"💻 Computer will try to guess your number.\\n\")\n",
        "\n",
        "low = 1\n",
        "high = 10\n",
        "\n",
        "print(\"🤔 Think of a number between 1 and 10, and 💻 will try to guess it!\")\n",
        "input(\"👍 When you are ready, press Enter to continue...\")\n",
        "\n",
        "while low <= high:\n",
        "    guess = random.randint(low, high)\n",
        "    print(f\"\\n🤖 Is your number {guess}?\")\n",
        "    feedback = input(\"👉 Enter 'h' for too high, 'l' for too low, or 'c' for correct: \").lower()\n",
        "\n",
        "    if feedback == 'h':\n",
        "        high = guess - 1\n",
        "    elif feedback == 'l':\n",
        "        low = guess + 1\n",
        "    elif feedback == 'c':\n",
        "        print(f\"\\n🎉 Yay! 💻 guessed {guess} correctly. 🎉\")\n",
        "        break\n",
        "    else:\n",
        "        print(\"⚠️ Invalid input. Please enter only 'h', 'l', or 'c'. 🚫\")\n",
        "\n",
        "if low > high:\n",
        "    print(\"\\n😅 Hmm... It seems there was a misunderstanding. Let's try again! 🔄\")\n"
      ]
    }
  ]
}