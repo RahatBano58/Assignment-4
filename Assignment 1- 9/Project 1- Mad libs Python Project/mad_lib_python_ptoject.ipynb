{
  "nbformat": 4,
  "nbformat_minor": 0,
  "metadata": {
    "colab": {
      "provenance": []
    },
    "kernelspec": {
      "name": "python3",
      "display_name": "Python 3"
    },
    "language_info": {
      "name": "python"
    }
  },
  "cells": [
    {
      "cell_type": "code",
      "execution_count": 5,
      "metadata": {
        "colab": {
          "base_uri": "https://localhost:8080/"
        },
        "id": "aOAgRE8wCdwV",
        "outputId": "c67a8b95-e58f-4395-b930-b6b274403f43"
      },
      "outputs": [
        {
          "output_type": "stream",
          "name": "stdout",
          "text": [
            "🎭 Fun Mad Libs Game! 🎭\n",
            "----------------------------\n",
            "Enter an Adjective: Interesting\n",
            "Enter a Verb: enjoyed\n",
            "Enter another Verb: fun\n",
            "Enter a Famous Person: Marie Curis\n",
            "Press Enter to generate your Mad Lib...\n",
            "\n",
            "Here's Your Mad Lib! 🎉\n",
            "-----------------------------------\n",
            "Coding in the realm of AI is incredibly Interesting. Each time I enjoyed, it’s like I’m building the future. With visionaries like Marie Curis as inspiration, I strive to fun new solutions that shape tomorrow.\n",
            "-----------------------------------\n"
          ]
        }
      ],
      "source": [
        "import random\n",
        "\n",
        "print(\"🎭 Fun Mad Libs Game! 🎭\")\n",
        "print(\"----------------------------\")\n",
        "\n",
        "# User Inputs\n",
        "adj = input(\"Enter an Adjective: \")\n",
        "verb1 = input(\"Enter a Verb: \")\n",
        "verb2 = input(\"Enter another Verb: \")\n",
        "famous_person = input(\"Enter a Famous Person: \")\n",
        "\n",
        "# Madlib Templates\n",
        "madlib_templates = [\n",
        "    f\"The future of AI is truly {adj}! Every time I {verb1}, I feel like I'm contributing to something revolutionary. Just like {famous_person}, we are pushing the boundaries of what technology can {verb2}.\",\n",
        "    f\"AI is transforming the world in {adj} ways! When I {verb1}, it feels like I’m part of a greater mission, much like how {famous_person} paved the way for modern computing by helping us {verb2} the unimaginable.\",\n",
        "    f\"Coding in the realm of AI is incredibly {adj}. Each time I {verb1}, it’s like I’m building the future. With visionaries like {famous_person} as inspiration, I strive to {verb2} new solutions that shape tomorrow.\"\n",
        "]\n",
        "\n",
        "# Generate and display Mad Lib\n",
        "input(\"Press Enter to generate your Mad Lib...\")\n",
        "\n",
        "selected_madlib = random.choice(madlib_templates)\n",
        "print(\"\\nHere's Your Mad Lib! 🎉\")\n",
        "print(\"-----------------------------------\")\n",
        "print(selected_madlib)\n",
        "print(\"-----------------------------------\")\n"
      ]
    }
  ]
}