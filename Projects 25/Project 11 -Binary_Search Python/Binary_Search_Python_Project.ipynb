{
  "nbformat": 4,
  "nbformat_minor": 0,
  "metadata": {
    "colab": {
      "provenance": []
    },
    "kernelspec": {
      "name": "python3",
      "display_name": "Python 3"
    },
    "language_info": {
      "name": "python"
    }
  },
  "cells": [
    {
      "cell_type": "code",
      "execution_count": 12,
      "metadata": {
        "colab": {
          "base_uri": "https://localhost:8080/"
        },
        "id": "RWzKb40NJg7N",
        "outputId": "ea340ee8-39de-45d6-e605-ebf973551566"
      },
      "outputs": [
        {
          "output_type": "stream",
          "name": "stdout",
          "text": [
            "Enter a number to search: 21\n",
            "Checking index 5, value 11\n",
            "Checking index 8, value 17\n",
            "Checking index 10, value 21\n",
            "✅ Found at index 10\n"
          ]
        }
      ],
      "source": [
        "def binary_search(arr, target):\n",
        "    \"\"\"Performs binary search on a sorted list.\"\"\"\n",
        "    low = 0\n",
        "    high = len(arr) - 1\n",
        "\n",
        "    while low <= high:\n",
        "        mid = (low + high) // 2\n",
        "        guess = arr[mid]\n",
        "\n",
        "        print(f\"Checking index {mid}, value {guess}\")\n",
        "\n",
        "        if guess == target:\n",
        "            return mid  # Target found\n",
        "        elif guess < target:\n",
        "            low = mid + 1  # Search right half\n",
        "        else:\n",
        "            high = mid - 1  # Search left half\n",
        "\n",
        "    return -1  # Target not found\n",
        "\n",
        "# Sample sorted list\n",
        "numbers = [1, 3, 5, 7, 9, 11, 13, 15, 17, 19, 21, 23]\n",
        "\n",
        "# Input from user\n",
        "try:\n",
        "    user_input = int(input(\"Enter a number to search: \"))\n",
        "    result = binary_search(numbers, user_input)\n",
        "\n",
        "    if result != -1:\n",
        "        print(f\"✅ Found at index {result}\")\n",
        "    else:\n",
        "        print(\"❌ Not found in the list.\")\n",
        "except ValueError:\n",
        "    print(\"Please enter a valid integer.\")"
      ]
    }
  ]
}