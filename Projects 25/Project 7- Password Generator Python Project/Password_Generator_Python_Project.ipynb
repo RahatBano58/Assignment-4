{
  "nbformat": 4,
  "nbformat_minor": 0,
  "metadata": {
    "colab": {
      "provenance": []
    },
    "kernelspec": {
      "name": "python3",
      "display_name": "Python 3"
    },
    "language_info": {
      "name": "python"
    }
  },
  "cells": [
    {
      "cell_type": "code",
      "execution_count": 3,
      "metadata": {
        "id": "Z5zaA7pQISs-",
        "colab": {
          "base_uri": "https://localhost:8080/"
        },
        "outputId": "0e6ace54-2b31-4134-fe67-192845faca02"
      },
      "outputs": [
        {
          "output_type": "stream",
          "name": "stdout",
          "text": [
            "🔒 Random Password Generator 🔒\n",
            "Create strong and secure passwords instantly\n",
            "\n",
            "Enter the number of passwords to generate: \n",
            "Please enter valid numbers.\n"
          ]
        }
      ],
      "source": [
        "import random\n",
        "import string\n",
        "\n",
        "# Function to generate passwords\n",
        "def generate_passwords(num_passwords, password_length):\n",
        "    characters = string.ascii_letters + string.digits + string.punctuation\n",
        "    passwords = [''.join(random.choices(characters, k=password_length)) for _ in range(num_passwords)]\n",
        "    return passwords\n",
        "\n",
        "# Main function\n",
        "def main():\n",
        "    print(\"🔒 Random Password Generator 🔒\")\n",
        "    print(\"Create strong and secure passwords instantly\\n\")\n",
        "\n",
        "    # User inputs\n",
        "    try:\n",
        "        num_passwords = int(input(\"Enter the number of passwords to generate: \"))\n",
        "        password_length = int(input(\"Enter the desired password length: \"))\n",
        "    except ValueError:\n",
        "        print(\"Please enter valid numbers.\")\n",
        "        return\n",
        "\n",
        "    # Generated Password\n",
        "    passwords = generate_passwords(num_passwords, password_length)\n",
        "    print(\"\\nGenerated Passwords:\")\n",
        "    for i, password in enumerate(passwords, 1):\n",
        "        print(f\"Password {i}: {password}\")\n",
        "\n",
        "# Run the program\n",
        "if __name__ == \"__main__\":\n",
        "    main()\n"
      ]
    }
  ]
}