{
  "nbformat": 4,
  "nbformat_minor": 0,
  "metadata": {
    "colab": {
      "provenance": []
    },
    "kernelspec": {
      "name": "python3",
      "display_name": "Python 3"
    },
    "language_info": {
      "name": "python"
    }
  },
  "cells": [
    {
      "cell_type": "code",
      "execution_count": 1,
      "metadata": {
        "colab": {
          "base_uri": "https://localhost:8080/"
        },
        "id": "fWRnHVtaDetv",
        "outputId": "5498ef04-8b9a-4039-c66b-105cc06ee8d9"
      },
      "outputs": [
        {
          "output_type": "stream",
          "name": "stdout",
          "text": [
            "High Low Game\n",
            "Welcome to the High Low Game\n",
            "*****************************\n",
            "Round 1\n",
            "Your number is 9\n",
            "Do you think your number is higher or lower than the computer's number? higher\n",
            "That's incorrect.The computer's number was 26\n",
            "Your score is now 0\n",
            "\n",
            "Round 2\n",
            "Your number is 35\n",
            "Do you think your number is higher or lower than the computer's number? lower\n",
            "You were right! The computer's number was 96\n",
            "Your score is now 1\n",
            "\n",
            "Round 3\n",
            "Your number is 28\n",
            "Do you think your number is higher or lower than the computer's number? lower\n",
            "That's incorrect.The computer's number was 1\n",
            "Your score is now 1\n",
            "\n",
            "Round 4\n",
            "Your number is 93\n",
            "Do you think your number is higher or lower than the computer's number? higher\n",
            "You were right! The computer's number was 15\n",
            "Your score is now 2\n",
            "\n",
            "Round 5\n",
            "Your number is 14\n",
            "Do you think your number is higher or lower than the computer's number? lower\n",
            "You were right! The computer's number was 68\n",
            "Your score is now 3\n",
            "\n",
            "Thanks for playing!\n"
          ]
        }
      ],
      "source": [
        "import random\n",
        "print(\"High Low Game\")\n",
        "\n",
        "round = 5\n",
        "\n",
        "def main():\n",
        "  print(\"Welcome to the High Low Game\")\n",
        "  print(\"*****************************\")\n",
        "\n",
        "  your_score = 0\n",
        "\n",
        "  for i in range(round):\n",
        "    print(\"Round\", i + 1)\n",
        "\n",
        "    computer_number : int = random.randint(1,100)\n",
        "    your_number:int = random.randint(1,100)\n",
        "    print(\"Your number is\" , your_number)\n",
        "\n",
        "    choice:str = input(\"\"\"Do you think your number is higher or lower than the computer's number? \"\"\")\n",
        "    higher_and_correct:bool = choice == \"higher\" and your_number > computer_number\n",
        "    lower_and_correct:bool = choice == \"lower\" and your_number < computer_number\n",
        "\n",
        "    if higher_and_correct or lower_and_correct:\n",
        "      print(\"You were right! The computer\\'s number was\",computer_number)\n",
        "      your_score += 1\n",
        "    else:\n",
        "      print(\"That\\'s incorrect.The computer\\'s number was\",computer_number)\n",
        "\n",
        "    print(\"Your score is now\",your_score)\n",
        "    print()\n",
        "\n",
        "  print(\"Thanks for playing!\")\n",
        "\n",
        "\n",
        "if __name__ == \"__main__\":\n",
        "  main()"
      ]
    }
  ]
}