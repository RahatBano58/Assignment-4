{
  "nbformat": 4,
  "nbformat_minor": 0,
  "metadata": {
    "colab": {
      "provenance": []
    },
    "kernelspec": {
      "name": "python3",
      "display_name": "Python 3"
    },
    "language_info": {
      "name": "python"
    }
  },
  "cells": [
    {
      "cell_type": "code",
      "execution_count": 1,
      "metadata": {
        "colab": {
          "base_uri": "https://localhost:8080/"
        },
        "id": "UYVYNZDTzvDX",
        "outputId": "738bf35c-f8f9-4b35-81c9-70cc81895eb2"
      },
      "outputs": [
        {
          "output_type": "stream",
          "name": "stdout",
          "text": [
            "Enter countdown time in seconds: ⏰ 10\n",
            "⏳ Countdown Timer Started! ⏳\n",
            "⏳ 00:00\n",
            "🎉 Time's Up! The countdown has finished! 🎉\n"
          ]
        }
      ],
      "source": [
        "import time\n",
        "\n",
        "def countdown_timer(duration):\n",
        "    print(\"⏳ Countdown Timer Started! ⏳\")\n",
        "    remaining_time = duration\n",
        "\n",
        "    while remaining_time >= 0:\n",
        "        mins, secs = divmod(remaining_time, 60)\n",
        "        timer_display = f\"{mins:02}:{secs:02}\"\n",
        "        print(f\"\\r⏳ {timer_display}\", end=\"\")\n",
        "        time.sleep(1)\n",
        "        remaining_time -= 1\n",
        "\n",
        "    print(\"\\n🎉 Time's Up! The countdown has finished! 🎉\")\n",
        "\n",
        "# Input from user\n",
        "try:\n",
        "    duration = int(input(\"Enter countdown time in seconds: ⏰ \"))\n",
        "    countdown_timer(duration)\n",
        "except ValueError:\n",
        "    print(\"⚠️ Please enter a valid number!\")\n"
      ]
    }
  ]
}